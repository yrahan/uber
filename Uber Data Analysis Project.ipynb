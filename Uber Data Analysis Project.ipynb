{
 "cells": [
  {
   "cell_type": "markdown",
   "metadata": {},
   "source": [
    "We will analyze the Uber Pickups in New York City dataset."
   ]
  },
  {
   "cell_type": "code",
   "execution_count": 1,
   "metadata": {},
   "outputs": [],
   "source": [
    "# pretty display of variables\n",
    "from IPython.core.interactiveshell import InteractiveShell\n",
    "InteractiveShell.ast_node_interactivity = \"all\""
   ]
  },
  {
   "cell_type": "code",
   "execution_count": 2,
   "metadata": {},
   "outputs": [],
   "source": [
    "#!dir \"./data/uber-pickups-in-new-york-city\""
   ]
  },
  {
   "cell_type": "code",
   "execution_count": 3,
   "metadata": {},
   "outputs": [],
   "source": [
    "import pandas as pd"
   ]
  },
  {
   "cell_type": "code",
   "execution_count": 4,
   "metadata": {},
   "outputs": [],
   "source": [
    "apr_data = pd.read_csv(\"./data/uber-pickups-in-new-york-city/uber-raw-data-apr14.csv\")\n",
    "may_data = pd.read_csv(\"./data/uber-pickups-in-new-york-city/uber-raw-data-may14.csv\")\n",
    "jun_data = pd.read_csv(\"./data/uber-pickups-in-new-york-city/uber-raw-data-jun14.csv\")\n",
    "jul_data = pd.read_csv(\"./data/uber-pickups-in-new-york-city/uber-raw-data-jul14.csv\")\n",
    "aug_data = pd.read_csv(\"./data/uber-pickups-in-new-york-city/uber-raw-data-aug14.csv\")\n",
    "sep_data = pd.read_csv(\"./data/uber-pickups-in-new-york-city/uber-raw-data-sep14.csv\")\n"
   ]
  },
  {
   "cell_type": "code",
   "execution_count": 5,
   "metadata": {},
   "outputs": [],
   "source": [
    "frames = [apr_data, may_data, jun_data, jul_data, aug_data, sep_data]\n",
    "uber_2014  = pd.concat(frames)"
   ]
  },
  {
   "cell_type": "code",
   "execution_count": 6,
   "metadata": {},
   "outputs": [
    {
     "data": {
      "text/plain": [
       "(4534327, 4)"
      ]
     },
     "execution_count": 6,
     "metadata": {},
     "output_type": "execute_result"
    }
   ],
   "source": [
    "uber_2014.shape"
   ]
  },
  {
   "cell_type": "code",
   "execution_count": 7,
   "metadata": {},
   "outputs": [
    {
     "data": {
      "text/html": [
       "<div>\n",
       "<style scoped>\n",
       "    .dataframe tbody tr th:only-of-type {\n",
       "        vertical-align: middle;\n",
       "    }\n",
       "\n",
       "    .dataframe tbody tr th {\n",
       "        vertical-align: top;\n",
       "    }\n",
       "\n",
       "    .dataframe thead th {\n",
       "        text-align: right;\n",
       "    }\n",
       "</style>\n",
       "<table border=\"1\" class=\"dataframe\">\n",
       "  <thead>\n",
       "    <tr style=\"text-align: right;\">\n",
       "      <th></th>\n",
       "      <th>Date/Time</th>\n",
       "      <th>Lat</th>\n",
       "      <th>Lon</th>\n",
       "      <th>Base</th>\n",
       "    </tr>\n",
       "  </thead>\n",
       "  <tbody>\n",
       "    <tr>\n",
       "      <th>0</th>\n",
       "      <td>4/1/2014 0:11:00</td>\n",
       "      <td>40.7690</td>\n",
       "      <td>-73.9549</td>\n",
       "      <td>B02512</td>\n",
       "    </tr>\n",
       "    <tr>\n",
       "      <th>1</th>\n",
       "      <td>4/1/2014 0:17:00</td>\n",
       "      <td>40.7267</td>\n",
       "      <td>-74.0345</td>\n",
       "      <td>B02512</td>\n",
       "    </tr>\n",
       "    <tr>\n",
       "      <th>2</th>\n",
       "      <td>4/1/2014 0:21:00</td>\n",
       "      <td>40.7316</td>\n",
       "      <td>-73.9873</td>\n",
       "      <td>B02512</td>\n",
       "    </tr>\n",
       "    <tr>\n",
       "      <th>3</th>\n",
       "      <td>4/1/2014 0:28:00</td>\n",
       "      <td>40.7588</td>\n",
       "      <td>-73.9776</td>\n",
       "      <td>B02512</td>\n",
       "    </tr>\n",
       "    <tr>\n",
       "      <th>4</th>\n",
       "      <td>4/1/2014 0:33:00</td>\n",
       "      <td>40.7594</td>\n",
       "      <td>-73.9722</td>\n",
       "      <td>B02512</td>\n",
       "    </tr>\n",
       "    <tr>\n",
       "      <th>5</th>\n",
       "      <td>4/1/2014 0:33:00</td>\n",
       "      <td>40.7383</td>\n",
       "      <td>-74.0403</td>\n",
       "      <td>B02512</td>\n",
       "    </tr>\n",
       "    <tr>\n",
       "      <th>6</th>\n",
       "      <td>4/1/2014 0:39:00</td>\n",
       "      <td>40.7223</td>\n",
       "      <td>-73.9887</td>\n",
       "      <td>B02512</td>\n",
       "    </tr>\n",
       "    <tr>\n",
       "      <th>7</th>\n",
       "      <td>4/1/2014 0:45:00</td>\n",
       "      <td>40.7620</td>\n",
       "      <td>-73.9790</td>\n",
       "      <td>B02512</td>\n",
       "    </tr>\n",
       "    <tr>\n",
       "      <th>8</th>\n",
       "      <td>4/1/2014 0:55:00</td>\n",
       "      <td>40.7524</td>\n",
       "      <td>-73.9960</td>\n",
       "      <td>B02512</td>\n",
       "    </tr>\n",
       "    <tr>\n",
       "      <th>9</th>\n",
       "      <td>4/1/2014 1:01:00</td>\n",
       "      <td>40.7575</td>\n",
       "      <td>-73.9846</td>\n",
       "      <td>B02512</td>\n",
       "    </tr>\n",
       "  </tbody>\n",
       "</table>\n",
       "</div>"
      ],
      "text/plain": [
       "          Date/Time      Lat      Lon    Base\n",
       "0  4/1/2014 0:11:00  40.7690 -73.9549  B02512\n",
       "1  4/1/2014 0:17:00  40.7267 -74.0345  B02512\n",
       "2  4/1/2014 0:21:00  40.7316 -73.9873  B02512\n",
       "3  4/1/2014 0:28:00  40.7588 -73.9776  B02512\n",
       "4  4/1/2014 0:33:00  40.7594 -73.9722  B02512\n",
       "5  4/1/2014 0:33:00  40.7383 -74.0403  B02512\n",
       "6  4/1/2014 0:39:00  40.7223 -73.9887  B02512\n",
       "7  4/1/2014 0:45:00  40.7620 -73.9790  B02512\n",
       "8  4/1/2014 0:55:00  40.7524 -73.9960  B02512\n",
       "9  4/1/2014 1:01:00  40.7575 -73.9846  B02512"
      ]
     },
     "execution_count": 7,
     "metadata": {},
     "output_type": "execute_result"
    }
   ],
   "source": [
    "uber_2014.head(10)"
   ]
  },
  {
   "cell_type": "markdown",
   "metadata": {},
   "source": [
    "### Downsizing our sample\n",
    "We have millions of records. Let's test our methods on a downsized part of the data."
   ]
  },
  {
   "cell_type": "code",
   "execution_count": 8,
   "metadata": {},
   "outputs": [],
   "source": [
    " data_2014 = uber_2014.sample(frac=0.01, replace=False, random_state=1);"
   ]
  },
  {
   "cell_type": "code",
   "execution_count": 9,
   "metadata": {},
   "outputs": [
    {
     "data": {
      "text/plain": [
       "(45343, 4)"
      ]
     },
     "execution_count": 9,
     "metadata": {},
     "output_type": "execute_result"
    }
   ],
   "source": [
    "data_2014.shape"
   ]
  },
  {
   "cell_type": "code",
   "execution_count": 10,
   "metadata": {},
   "outputs": [],
   "source": [
    "# adding a column of ones to compute some statistics\n",
    "data_2014['n'] = 1"
   ]
  },
  {
   "cell_type": "code",
   "execution_count": 11,
   "metadata": {},
   "outputs": [
    {
     "data": {
      "text/plain": [
       "Index(['Date/Time', 'Lat', 'Lon', 'Base', 'n'], dtype='object')"
      ]
     },
     "execution_count": 11,
     "metadata": {},
     "output_type": "execute_result"
    }
   ],
   "source": [
    "data_2014.columns"
   ]
  },
  {
   "cell_type": "code",
   "execution_count": 12,
   "metadata": {},
   "outputs": [],
   "source": [
    "# lets rename our Date/Time column for an easier handeling."
   ]
  },
  {
   "cell_type": "code",
   "execution_count": 13,
   "metadata": {},
   "outputs": [],
   "source": [
    "data_2014.rename(columns={'Date/Time':'DateTime'}, inplace=True)"
   ]
  },
  {
   "cell_type": "code",
   "execution_count": 14,
   "metadata": {},
   "outputs": [
    {
     "data": {
      "text/plain": [
       "Index(['DateTime', 'Lat', 'Lon', 'Base', 'n'], dtype='object')"
      ]
     },
     "execution_count": 14,
     "metadata": {},
     "output_type": "execute_result"
    }
   ],
   "source": [
    "data_2014.columns"
   ]
  },
  {
   "cell_type": "code",
   "execution_count": 15,
   "metadata": {},
   "outputs": [
    {
     "data": {
      "text/html": [
       "<div>\n",
       "<style scoped>\n",
       "    .dataframe tbody tr th:only-of-type {\n",
       "        vertical-align: middle;\n",
       "    }\n",
       "\n",
       "    .dataframe tbody tr th {\n",
       "        vertical-align: top;\n",
       "    }\n",
       "\n",
       "    .dataframe thead th {\n",
       "        text-align: right;\n",
       "    }\n",
       "</style>\n",
       "<table border=\"1\" class=\"dataframe\">\n",
       "  <thead>\n",
       "    <tr style=\"text-align: right;\">\n",
       "      <th></th>\n",
       "      <th>DateTime</th>\n",
       "      <th>Lat</th>\n",
       "      <th>Lon</th>\n",
       "      <th>Base</th>\n",
       "      <th>n</th>\n",
       "    </tr>\n",
       "  </thead>\n",
       "  <tbody>\n",
       "    <tr>\n",
       "      <th>753909</th>\n",
       "      <td>8/26/2014 19:49:00</td>\n",
       "      <td>40.7270</td>\n",
       "      <td>-73.9767</td>\n",
       "      <td>B02682</td>\n",
       "      <td>1</td>\n",
       "    </tr>\n",
       "    <tr>\n",
       "      <th>601873</th>\n",
       "      <td>8/31/2014 14:40:00</td>\n",
       "      <td>40.7482</td>\n",
       "      <td>-73.9927</td>\n",
       "      <td>B02617</td>\n",
       "      <td>1</td>\n",
       "    </tr>\n",
       "    <tr>\n",
       "      <th>890927</th>\n",
       "      <td>9/10/2014 15:48:00</td>\n",
       "      <td>40.7557</td>\n",
       "      <td>-73.9895</td>\n",
       "      <td>B02764</td>\n",
       "      <td>1</td>\n",
       "    </tr>\n",
       "    <tr>\n",
       "      <th>433155</th>\n",
       "      <td>8/15/2014 20:47:00</td>\n",
       "      <td>40.7081</td>\n",
       "      <td>-74.0116</td>\n",
       "      <td>B02617</td>\n",
       "      <td>1</td>\n",
       "    </tr>\n",
       "    <tr>\n",
       "      <th>169714</th>\n",
       "      <td>9/17/2014 15:10:00</td>\n",
       "      <td>40.7417</td>\n",
       "      <td>-73.9894</td>\n",
       "      <td>B02598</td>\n",
       "      <td>1</td>\n",
       "    </tr>\n",
       "  </tbody>\n",
       "</table>\n",
       "</div>"
      ],
      "text/plain": [
       "                  DateTime      Lat      Lon    Base  n\n",
       "753909  8/26/2014 19:49:00  40.7270 -73.9767  B02682  1\n",
       "601873  8/31/2014 14:40:00  40.7482 -73.9927  B02617  1\n",
       "890927  9/10/2014 15:48:00  40.7557 -73.9895  B02764  1\n",
       "433155  8/15/2014 20:47:00  40.7081 -74.0116  B02617  1\n",
       "169714  9/17/2014 15:10:00  40.7417 -73.9894  B02598  1"
      ]
     },
     "execution_count": 15,
     "metadata": {},
     "output_type": "execute_result"
    }
   ],
   "source": [
    "data_2014.head()"
   ]
  },
  {
   "cell_type": "code",
   "execution_count": 16,
   "metadata": {},
   "outputs": [
    {
     "data": {
      "text/plain": [
       "(45343, 5)"
      ]
     },
     "execution_count": 16,
     "metadata": {},
     "output_type": "execute_result"
    }
   ],
   "source": [
    "data_2014.shape"
   ]
  },
  {
   "cell_type": "code",
   "execution_count": 50,
   "metadata": {},
   "outputs": [
    {
     "data": {
      "text/plain": [
       "Lat            0\n",
       "Lon            0\n",
       "Base           0\n",
       "n              0\n",
       "Year           0\n",
       "Month          0\n",
       "WeekdayName    0\n",
       "dtype: int64"
      ]
     },
     "execution_count": 50,
     "metadata": {},
     "output_type": "execute_result"
    }
   ],
   "source": [
    "# Checking if there is any missing value\n",
    "data_2014.isna().sum()"
   ]
  },
  {
   "cell_type": "markdown",
   "metadata": {},
   "source": [
    "No missing value to handle"
   ]
  },
  {
   "cell_type": "markdown",
   "metadata": {},
   "source": [
    "### Feature base\n"
   ]
  },
  {
   "cell_type": "code",
   "execution_count": 17,
   "metadata": {},
   "outputs": [
    {
     "data": {
      "text/plain": [
       "B02617    14574\n",
       "B02598    14055\n",
       "B02682    12066\n",
       "B02764     2641\n",
       "B02512     2007\n",
       "Name: Base, dtype: int64"
      ]
     },
     "execution_count": 17,
     "metadata": {},
     "output_type": "execute_result"
    }
   ],
   "source": [
    "data_2014.Base.value_counts()"
   ]
  },
  {
   "cell_type": "code",
   "execution_count": 49,
   "metadata": {},
   "outputs": [
    {
     "data": {
      "text/plain": [
       "<matplotlib.axes._subplots.AxesSubplot at 0xa204659400>"
      ]
     },
     "execution_count": 49,
     "metadata": {},
     "output_type": "execute_result"
    },
    {
     "data": {
      "image/png": "[encoded data removed]",
      "text/plain": [
       "<Figure size 432x288 with 1 Axes>"
      ]
     },
     "metadata": {
      "needs_background": "light"
     },
     "output_type": "display_data"
    }
   ],
   "source": [
    "data_2014.Base.value_counts().plot(kind='bar')"
   ]
  },
  {
   "cell_type": "markdown",
   "metadata": {},
   "source": [
    "We've got 5 Bases, 3 seems more important thant the two others."
   ]
  },
  {
   "cell_type": "code",
   "execution_count": 20,
   "metadata": {},
   "outputs": [
    {
     "data": {
      "text/plain": [
       "DateTime     object\n",
       "Lat         float64\n",
       "Lon         float64\n",
       "Base         object\n",
       "n             int64\n",
       "dtype: object"
      ]
     },
     "execution_count": 20,
     "metadata": {},
     "output_type": "execute_result"
    }
   ],
   "source": [
    "data_2014.dtypes"
   ]
  },
  {
   "cell_type": "code",
   "execution_count": 21,
   "metadata": {},
   "outputs": [
    {
     "data": {
      "text/plain": [
       "753909    8/26/2014 19:49:00\n",
       "601873    8/31/2014 14:40:00\n",
       "890927    9/10/2014 15:48:00\n",
       "433155    8/15/2014 20:47:00\n",
       "169714    9/17/2014 15:10:00\n",
       "596910      7/2/2014 5:49:00\n",
       "192011    8/22/2014 16:31:00\n",
       "162364    9/16/2014 16:25:00\n",
       "475752    7/22/2014 16:50:00\n",
       "832047    9/27/2014 21:46:00\n",
       "Name: DateTime, dtype: object"
      ]
     },
     "execution_count": 21,
     "metadata": {},
     "output_type": "execute_result"
    }
   ],
   "source": [
    "data_2014.DateTime.head(10)"
   ]
  },
  {
   "cell_type": "code",
   "execution_count": 22,
   "metadata": {},
   "outputs": [],
   "source": [
    "data_2014.DateTime = pd.to_datetime(data_2014.DateTime)\n"
   ]
  },
  {
   "cell_type": "code",
   "execution_count": 23,
   "metadata": {},
   "outputs": [
    {
     "data": {
      "text/html": [
       "<div>\n",
       "<style scoped>\n",
       "    .dataframe tbody tr th:only-of-type {\n",
       "        vertical-align: middle;\n",
       "    }\n",
       "\n",
       "    .dataframe tbody tr th {\n",
       "        vertical-align: top;\n",
       "    }\n",
       "\n",
       "    .dataframe thead th {\n",
       "        text-align: right;\n",
       "    }\n",
       "</style>\n",
       "<table border=\"1\" class=\"dataframe\">\n",
       "  <thead>\n",
       "    <tr style=\"text-align: right;\">\n",
       "      <th></th>\n",
       "      <th>DateTime</th>\n",
       "      <th>Lat</th>\n",
       "      <th>Lon</th>\n",
       "      <th>Base</th>\n",
       "      <th>n</th>\n",
       "    </tr>\n",
       "  </thead>\n",
       "  <tbody>\n",
       "    <tr>\n",
       "      <th>753909</th>\n",
       "      <td>2014-08-26 19:49:00</td>\n",
       "      <td>40.7270</td>\n",
       "      <td>-73.9767</td>\n",
       "      <td>B02682</td>\n",
       "      <td>1</td>\n",
       "    </tr>\n",
       "    <tr>\n",
       "      <th>601873</th>\n",
       "      <td>2014-08-31 14:40:00</td>\n",
       "      <td>40.7482</td>\n",
       "      <td>-73.9927</td>\n",
       "      <td>B02617</td>\n",
       "      <td>1</td>\n",
       "    </tr>\n",
       "    <tr>\n",
       "      <th>890927</th>\n",
       "      <td>2014-09-10 15:48:00</td>\n",
       "      <td>40.7557</td>\n",
       "      <td>-73.9895</td>\n",
       "      <td>B02764</td>\n",
       "      <td>1</td>\n",
       "    </tr>\n",
       "    <tr>\n",
       "      <th>433155</th>\n",
       "      <td>2014-08-15 20:47:00</td>\n",
       "      <td>40.7081</td>\n",
       "      <td>-74.0116</td>\n",
       "      <td>B02617</td>\n",
       "      <td>1</td>\n",
       "    </tr>\n",
       "    <tr>\n",
       "      <th>169714</th>\n",
       "      <td>2014-09-17 15:10:00</td>\n",
       "      <td>40.7417</td>\n",
       "      <td>-73.9894</td>\n",
       "      <td>B02598</td>\n",
       "      <td>1</td>\n",
       "    </tr>\n",
       "    <tr>\n",
       "      <th>596910</th>\n",
       "      <td>2014-07-02 05:49:00</td>\n",
       "      <td>40.7675</td>\n",
       "      <td>-73.8666</td>\n",
       "      <td>B02682</td>\n",
       "      <td>1</td>\n",
       "    </tr>\n",
       "    <tr>\n",
       "      <th>192011</th>\n",
       "      <td>2014-08-22 16:31:00</td>\n",
       "      <td>40.7596</td>\n",
       "      <td>-73.9738</td>\n",
       "      <td>B02598</td>\n",
       "      <td>1</td>\n",
       "    </tr>\n",
       "    <tr>\n",
       "      <th>162364</th>\n",
       "      <td>2014-09-16 16:25:00</td>\n",
       "      <td>40.6466</td>\n",
       "      <td>-73.7894</td>\n",
       "      <td>B02598</td>\n",
       "      <td>1</td>\n",
       "    </tr>\n",
       "    <tr>\n",
       "      <th>475752</th>\n",
       "      <td>2014-07-22 16:50:00</td>\n",
       "      <td>40.7642</td>\n",
       "      <td>-73.9818</td>\n",
       "      <td>B02617</td>\n",
       "      <td>1</td>\n",
       "    </tr>\n",
       "    <tr>\n",
       "      <th>832047</th>\n",
       "      <td>2014-09-27 21:46:00</td>\n",
       "      <td>40.7146</td>\n",
       "      <td>-73.9504</td>\n",
       "      <td>B02682</td>\n",
       "      <td>1</td>\n",
       "    </tr>\n",
       "  </tbody>\n",
       "</table>\n",
       "</div>"
      ],
      "text/plain": [
       "                  DateTime      Lat      Lon    Base  n\n",
       "753909 2014-08-26 19:49:00  40.7270 -73.9767  B02682  1\n",
       "601873 2014-08-31 14:40:00  40.7482 -73.9927  B02617  1\n",
       "890927 2014-09-10 15:48:00  40.7557 -73.9895  B02764  1\n",
       "433155 2014-08-15 20:47:00  40.7081 -74.0116  B02617  1\n",
       "169714 2014-09-17 15:10:00  40.7417 -73.9894  B02598  1\n",
       "596910 2014-07-02 05:49:00  40.7675 -73.8666  B02682  1\n",
       "192011 2014-08-22 16:31:00  40.7596 -73.9738  B02598  1\n",
       "162364 2014-09-16 16:25:00  40.6466 -73.7894  B02598  1\n",
       "475752 2014-07-22 16:50:00  40.7642 -73.9818  B02617  1\n",
       "832047 2014-09-27 21:46:00  40.7146 -73.9504  B02682  1"
      ]
     },
     "execution_count": 23,
     "metadata": {},
     "output_type": "execute_result"
    }
   ],
   "source": [
    "data_2014.head(10)"
   ]
  },
  {
   "cell_type": "code",
   "execution_count": 24,
   "metadata": {},
   "outputs": [
    {
     "data": {
      "text/plain": [
       "DateTime    datetime64[ns]\n",
       "Lat                float64\n",
       "Lon                float64\n",
       "Base                object\n",
       "n                    int64\n",
       "dtype: object"
      ]
     },
     "execution_count": 24,
     "metadata": {},
     "output_type": "execute_result"
    }
   ],
   "source": [
    "data_2014.dtypes"
   ]
  },
  {
   "cell_type": "markdown",
   "metadata": {},
   "source": [
    "### Plotting the trips by the hours in a day"
   ]
  },
  {
   "cell_type": "code",
   "execution_count": 25,
   "metadata": {},
   "outputs": [],
   "source": [
    "%matplotlib inline\n",
    "import seaborn as sns; sns.set()\n",
    "import matplotlib.pyplot as plt"
   ]
  },
  {
   "cell_type": "code",
   "execution_count": 26,
   "metadata": {},
   "outputs": [
    {
     "data": {
      "text/plain": [
       "753909   2014-08-26 19:49:00\n",
       "601873   2014-08-31 14:40:00\n",
       "890927   2014-09-10 15:48:00\n",
       "433155   2014-08-15 20:47:00\n",
       "169714   2014-09-17 15:10:00\n",
       "596910   2014-07-02 05:49:00\n",
       "192011   2014-08-22 16:31:00\n",
       "162364   2014-09-16 16:25:00\n",
       "475752   2014-07-22 16:50:00\n",
       "832047   2014-09-27 21:46:00\n",
       "Name: DateTime, dtype: datetime64[ns]"
      ]
     },
     "execution_count": 26,
     "metadata": {},
     "output_type": "execute_result"
    }
   ],
   "source": [
    "data_2014.DateTime.head(10)"
   ]
  },
  {
   "cell_type": "code",
   "execution_count": 27,
   "metadata": {},
   "outputs": [
    {
     "data": {
      "text/html": [
       "<div>\n",
       "<style scoped>\n",
       "    .dataframe tbody tr th:only-of-type {\n",
       "        vertical-align: middle;\n",
       "    }\n",
       "\n",
       "    .dataframe tbody tr th {\n",
       "        vertical-align: top;\n",
       "    }\n",
       "\n",
       "    .dataframe thead th {\n",
       "        text-align: right;\n",
       "    }\n",
       "</style>\n",
       "<table border=\"1\" class=\"dataframe\">\n",
       "  <thead>\n",
       "    <tr style=\"text-align: right;\">\n",
       "      <th></th>\n",
       "      <th>Lat</th>\n",
       "      <th>Lon</th>\n",
       "      <th>Base</th>\n",
       "      <th>n</th>\n",
       "    </tr>\n",
       "    <tr>\n",
       "      <th>DateTime</th>\n",
       "      <th></th>\n",
       "      <th></th>\n",
       "      <th></th>\n",
       "      <th></th>\n",
       "    </tr>\n",
       "  </thead>\n",
       "  <tbody>\n",
       "    <tr>\n",
       "      <th>2014-08-26 19:49:00</th>\n",
       "      <td>40.7270</td>\n",
       "      <td>-73.9767</td>\n",
       "      <td>B02682</td>\n",
       "      <td>1</td>\n",
       "    </tr>\n",
       "    <tr>\n",
       "      <th>2014-08-31 14:40:00</th>\n",
       "      <td>40.7482</td>\n",
       "      <td>-73.9927</td>\n",
       "      <td>B02617</td>\n",
       "      <td>1</td>\n",
       "    </tr>\n",
       "    <tr>\n",
       "      <th>2014-09-10 15:48:00</th>\n",
       "      <td>40.7557</td>\n",
       "      <td>-73.9895</td>\n",
       "      <td>B02764</td>\n",
       "      <td>1</td>\n",
       "    </tr>\n",
       "    <tr>\n",
       "      <th>2014-08-15 20:47:00</th>\n",
       "      <td>40.7081</td>\n",
       "      <td>-74.0116</td>\n",
       "      <td>B02617</td>\n",
       "      <td>1</td>\n",
       "    </tr>\n",
       "    <tr>\n",
       "      <th>2014-09-17 15:10:00</th>\n",
       "      <td>40.7417</td>\n",
       "      <td>-73.9894</td>\n",
       "      <td>B02598</td>\n",
       "      <td>1</td>\n",
       "    </tr>\n",
       "    <tr>\n",
       "      <th>2014-07-02 05:49:00</th>\n",
       "      <td>40.7675</td>\n",
       "      <td>-73.8666</td>\n",
       "      <td>B02682</td>\n",
       "      <td>1</td>\n",
       "    </tr>\n",
       "    <tr>\n",
       "      <th>2014-08-22 16:31:00</th>\n",
       "      <td>40.7596</td>\n",
       "      <td>-73.9738</td>\n",
       "      <td>B02598</td>\n",
       "      <td>1</td>\n",
       "    </tr>\n",
       "    <tr>\n",
       "      <th>2014-09-16 16:25:00</th>\n",
       "      <td>40.6466</td>\n",
       "      <td>-73.7894</td>\n",
       "      <td>B02598</td>\n",
       "      <td>1</td>\n",
       "    </tr>\n",
       "    <tr>\n",
       "      <th>2014-07-22 16:50:00</th>\n",
       "      <td>40.7642</td>\n",
       "      <td>-73.9818</td>\n",
       "      <td>B02617</td>\n",
       "      <td>1</td>\n",
       "    </tr>\n",
       "    <tr>\n",
       "      <th>2014-09-27 21:46:00</th>\n",
       "      <td>40.7146</td>\n",
       "      <td>-73.9504</td>\n",
       "      <td>B02682</td>\n",
       "      <td>1</td>\n",
       "    </tr>\n",
       "  </tbody>\n",
       "</table>\n",
       "</div>"
      ],
      "text/plain": [
       "                         Lat      Lon    Base  n\n",
       "DateTime                                        \n",
       "2014-08-26 19:49:00  40.7270 -73.9767  B02682  1\n",
       "2014-08-31 14:40:00  40.7482 -73.9927  B02617  1\n",
       "2014-09-10 15:48:00  40.7557 -73.9895  B02764  1\n",
       "2014-08-15 20:47:00  40.7081 -74.0116  B02617  1\n",
       "2014-09-17 15:10:00  40.7417 -73.9894  B02598  1\n",
       "2014-07-02 05:49:00  40.7675 -73.8666  B02682  1\n",
       "2014-08-22 16:31:00  40.7596 -73.9738  B02598  1\n",
       "2014-09-16 16:25:00  40.6466 -73.7894  B02598  1\n",
       "2014-07-22 16:50:00  40.7642 -73.9818  B02617  1\n",
       "2014-09-27 21:46:00  40.7146 -73.9504  B02682  1"
      ]
     },
     "execution_count": 27,
     "metadata": {},
     "output_type": "execute_result"
    }
   ],
   "source": [
    "# set DateTime as index\n",
    "data_2014 = data_2014.set_index('DateTime')\n",
    "data_2014.head(10)"
   ]
  },
  {
   "cell_type": "code",
   "execution_count": 28,
   "metadata": {},
   "outputs": [
    {
     "data": {
      "text/plain": [
       "Index(['Lat', 'Lon', 'Base', 'n'], dtype='object')"
      ]
     },
     "execution_count": 28,
     "metadata": {},
     "output_type": "execute_result"
    }
   ],
   "source": [
    "data_2014.columns"
   ]
  },
  {
   "cell_type": "code",
   "execution_count": 29,
   "metadata": {},
   "outputs": [],
   "source": [
    "# https://www.dataquest.io/blog/tutorial-time-series-analysis-with-pandas/\n",
    "# https://jakevdp.github.io/PythonDataScienceHandbook/03.11-working-with-time-series.html"
   ]
  },
  {
   "cell_type": "code",
   "execution_count": 30,
   "metadata": {},
   "outputs": [
    {
     "data": {
      "text/plain": [
       "Timestamp('2014-04-01 01:01:00')"
      ]
     },
     "execution_count": 30,
     "metadata": {},
     "output_type": "execute_result"
    },
    {
     "data": {
      "text/plain": [
       "Timestamp('2014-09-30 22:55:00')"
      ]
     },
     "execution_count": 30,
     "metadata": {},
     "output_type": "execute_result"
    }
   ],
   "source": [
    "data_2014.index.min()\n",
    "data_2014.index.max()\n"
   ]
  },
  {
   "cell_type": "code",
   "execution_count": 31,
   "metadata": {},
   "outputs": [
    {
     "data": {
      "text/plain": [
       "(5712, 4)"
      ]
     },
     "execution_count": 31,
     "metadata": {},
     "output_type": "execute_result"
    }
   ],
   "source": [
    "data_2014['2014-04'].shape"
   ]
  },
  {
   "cell_type": "code",
   "execution_count": 32,
   "metadata": {},
   "outputs": [
    {
     "data": {
      "text/plain": [
       "DateTime\n",
       "2014-04-01    134\n",
       "2014-04-02    183\n",
       "2014-04-03    212\n",
       "2014-04-04    271\n",
       "2014-04-05    209\n",
       "2014-04-06    141\n",
       "2014-04-07    193\n",
       "2014-04-08    146\n",
       "2014-04-09    164\n",
       "2014-04-10    210\n",
       "2014-04-11    175\n",
       "2014-04-12    181\n",
       "2014-04-13    139\n",
       "2014-04-14    116\n",
       "2014-04-15    216\n",
       "2014-04-16    170\n",
       "2014-04-17    204\n",
       "2014-04-18    177\n",
       "2014-04-19    154\n",
       "2014-04-20    114\n",
       "2014-04-21    140\n",
       "2014-04-22    176\n",
       "2014-04-23    223\n",
       "2014-04-24    237\n",
       "2014-04-25    247\n",
       "2014-04-26    242\n",
       "2014-04-27    143\n",
       "2014-04-28    153\n",
       "2014-04-29    235\n",
       "2014-04-30    407\n",
       "Freq: D, Name: Base, dtype: int64"
      ]
     },
     "execution_count": 32,
     "metadata": {},
     "output_type": "execute_result"
    }
   ],
   "source": [
    "data_201404 = data_2014.Base['2014-04'].resample('D').count()\n",
    "data_201404"
   ]
  },
  {
   "cell_type": "code",
   "execution_count": 33,
   "metadata": {},
   "outputs": [
    {
     "data": {
      "text/plain": [
       "<matplotlib.axes._subplots.AxesSubplot at 0xa202816320>"
      ]
     },
     "execution_count": 33,
     "metadata": {},
     "output_type": "execute_result"
    },
    {
     "data": {
      "image/png": "[encoded data removed]",
      "text/plain": [
       "<Figure size 432x288 with 1 Axes>"
      ]
     },
     "metadata": {
      "needs_background": "light"
     },
     "output_type": "display_data"
    }
   ],
   "source": [
    "data_201404.plot()"
   ]
  },
  {
   "cell_type": "code",
   "execution_count": 54,
   "metadata": {},
   "outputs": [
    {
     "data": {
      "text/plain": [
       "<matplotlib.axes._subplots.AxesSubplot at 0xa204b0f278>"
      ]
     },
     "execution_count": 54,
     "metadata": {},
     "output_type": "execute_result"
    },
    {
     "data": {
      "image/png": "[encoded data removed]",
      "text/plain": [
       "<Figure size 432x288 with 1 Axes>"
      ]
     },
     "metadata": {
      "needs_background": "light"
     },
     "output_type": "display_data"
    }
   ],
   "source": [
    "data_2014.Base.resample('D').count().plot()"
   ]
  },
  {
   "cell_type": "code",
   "execution_count": 52,
   "metadata": {},
   "outputs": [
    {
     "data": {
      "text/plain": [
       "<matplotlib.axes._subplots.AxesSubplot at 0xa20471e7f0>"
      ]
     },
     "execution_count": 52,
     "metadata": {},
     "output_type": "execute_result"
    },
    {
     "data": {
      "image/png": "[encoded data removed]",
      "text/plain": [
       "<Figure size 432x288 with 1 Axes>"
      ]
     },
     "metadata": {
      "needs_background": "light"
     },
     "output_type": "display_data"
    }
   ],
   "source": [
    "data_2014.Base.resample('M').count().plot(kind='bar')"
   ]
  },
  {
   "cell_type": "code",
   "execution_count": 36,
   "metadata": {},
   "outputs": [
    {
     "data": {
      "text/plain": [
       "<matplotlib.axes._subplots.AxesSubplot at 0xa202c4efd0>"
      ]
     },
     "execution_count": 36,
     "metadata": {},
     "output_type": "execute_result"
    },
    {
     "data": {
      "image/png": "[encoded data removed]",
      "text/plain": [
       "<Figure size 432x288 with 1 Axes>"
      ]
     },
     "metadata": {
      "needs_background": "light"
     },
     "output_type": "display_data"
    }
   ],
   "source": [
    "data_2014.Base['2014-04'].resample('D').count().plot()"
   ]
  },
  {
   "cell_type": "code",
   "execution_count": 37,
   "metadata": {},
   "outputs": [
    {
     "data": {
      "text/plain": [
       "<matplotlib.axes._subplots.AxesSubplot at 0xa202ce5588>"
      ]
     },
     "execution_count": 37,
     "metadata": {},
     "output_type": "execute_result"
    },
    {
     "data": {
      "image/png": "[encoded data removed]",
      "text/plain": [
       "<Figure size 432x288 with 1 Axes>"
      ]
     },
     "metadata": {
      "needs_background": "light"
     },
     "output_type": "display_data"
    }
   ],
   "source": [
    "data_2014.Base['2014-08'].resample('D').count().plot()"
   ]
  },
  {
   "cell_type": "code",
   "execution_count": 38,
   "metadata": {},
   "outputs": [
    {
     "data": {
      "text/plain": [
       "DateTime\n",
       "2014-08-31    8364\n",
       "Freq: M, Name: Base, dtype: int64"
      ]
     },
     "execution_count": 38,
     "metadata": {},
     "output_type": "execute_result"
    }
   ],
   "source": [
    "data_2014.Base['2014-08'].resample('M').count()"
   ]
  },
  {
   "cell_type": "code",
   "execution_count": 39,
   "metadata": {},
   "outputs": [
    {
     "data": {
      "text/plain": [
       "DateTime\n",
       "2014-04-30    5712\n",
       "Freq: M, Name: Base, dtype: int64"
      ]
     },
     "execution_count": 39,
     "metadata": {},
     "output_type": "execute_result"
    }
   ],
   "source": [
    "data_2014.Base['2014-04'].resample('M').count()"
   ]
  },
  {
   "cell_type": "code",
   "execution_count": 82,
   "metadata": {},
   "outputs": [],
   "source": [
    "# Add columns with year, month, and weekday name\n",
    "data_2014['Year'] = data_2014.index.year\n",
    "data_2014['Month'] = data_2014.index.month\n",
    "#data_2014['WeekdayName'] = data_2014.index.weekday_name\n",
    "data_2014['WeekdayName'] = pd.Categorical(data_2014.index.weekday_name, categories=\n",
    "    ['Monday','Tuesday','Wednesday','Thursday','Friday','Saturday', 'Sunday'],\n",
    "    ordered=True)\n",
    "data_2014['Hour'] = data_2014.index.hour"
   ]
  },
  {
   "cell_type": "code",
   "execution_count": 65,
   "metadata": {},
   "outputs": [
    {
     "data": {
      "text/html": [
       "<div>\n",
       "<style scoped>\n",
       "    .dataframe tbody tr th:only-of-type {\n",
       "        vertical-align: middle;\n",
       "    }\n",
       "\n",
       "    .dataframe tbody tr th {\n",
       "        vertical-align: top;\n",
       "    }\n",
       "\n",
       "    .dataframe thead th {\n",
       "        text-align: right;\n",
       "    }\n",
       "</style>\n",
       "<table border=\"1\" class=\"dataframe\">\n",
       "  <thead>\n",
       "    <tr style=\"text-align: right;\">\n",
       "      <th></th>\n",
       "      <th>Lat</th>\n",
       "      <th>Lon</th>\n",
       "      <th>Base</th>\n",
       "      <th>n</th>\n",
       "      <th>Year</th>\n",
       "      <th>Month</th>\n",
       "      <th>WeekdayName</th>\n",
       "    </tr>\n",
       "    <tr>\n",
       "      <th>DateTime</th>\n",
       "      <th></th>\n",
       "      <th></th>\n",
       "      <th></th>\n",
       "      <th></th>\n",
       "      <th></th>\n",
       "      <th></th>\n",
       "      <th></th>\n",
       "    </tr>\n",
       "  </thead>\n",
       "  <tbody>\n",
       "    <tr>\n",
       "      <th>2014-08-26 19:49:00</th>\n",
       "      <td>40.7270</td>\n",
       "      <td>-73.9767</td>\n",
       "      <td>B02682</td>\n",
       "      <td>1</td>\n",
       "      <td>2014</td>\n",
       "      <td>8</td>\n",
       "      <td>Tuesday</td>\n",
       "    </tr>\n",
       "    <tr>\n",
       "      <th>2014-08-31 14:40:00</th>\n",
       "      <td>40.7482</td>\n",
       "      <td>-73.9927</td>\n",
       "      <td>B02617</td>\n",
       "      <td>1</td>\n",
       "      <td>2014</td>\n",
       "      <td>8</td>\n",
       "      <td>Sunday</td>\n",
       "    </tr>\n",
       "    <tr>\n",
       "      <th>2014-09-10 15:48:00</th>\n",
       "      <td>40.7557</td>\n",
       "      <td>-73.9895</td>\n",
       "      <td>B02764</td>\n",
       "      <td>1</td>\n",
       "      <td>2014</td>\n",
       "      <td>9</td>\n",
       "      <td>Wednesday</td>\n",
       "    </tr>\n",
       "    <tr>\n",
       "      <th>2014-08-15 20:47:00</th>\n",
       "      <td>40.7081</td>\n",
       "      <td>-74.0116</td>\n",
       "      <td>B02617</td>\n",
       "      <td>1</td>\n",
       "      <td>2014</td>\n",
       "      <td>8</td>\n",
       "      <td>Friday</td>\n",
       "    </tr>\n",
       "    <tr>\n",
       "      <th>2014-09-17 15:10:00</th>\n",
       "      <td>40.7417</td>\n",
       "      <td>-73.9894</td>\n",
       "      <td>B02598</td>\n",
       "      <td>1</td>\n",
       "      <td>2014</td>\n",
       "      <td>9</td>\n",
       "      <td>Wednesday</td>\n",
       "    </tr>\n",
       "    <tr>\n",
       "      <th>2014-07-02 05:49:00</th>\n",
       "      <td>40.7675</td>\n",
       "      <td>-73.8666</td>\n",
       "      <td>B02682</td>\n",
       "      <td>1</td>\n",
       "      <td>2014</td>\n",
       "      <td>7</td>\n",
       "      <td>Wednesday</td>\n",
       "    </tr>\n",
       "    <tr>\n",
       "      <th>2014-08-22 16:31:00</th>\n",
       "      <td>40.7596</td>\n",
       "      <td>-73.9738</td>\n",
       "      <td>B02598</td>\n",
       "      <td>1</td>\n",
       "      <td>2014</td>\n",
       "      <td>8</td>\n",
       "      <td>Friday</td>\n",
       "    </tr>\n",
       "    <tr>\n",
       "      <th>2014-09-16 16:25:00</th>\n",
       "      <td>40.6466</td>\n",
       "      <td>-73.7894</td>\n",
       "      <td>B02598</td>\n",
       "      <td>1</td>\n",
       "      <td>2014</td>\n",
       "      <td>9</td>\n",
       "      <td>Tuesday</td>\n",
       "    </tr>\n",
       "    <tr>\n",
       "      <th>2014-07-22 16:50:00</th>\n",
       "      <td>40.7642</td>\n",
       "      <td>-73.9818</td>\n",
       "      <td>B02617</td>\n",
       "      <td>1</td>\n",
       "      <td>2014</td>\n",
       "      <td>7</td>\n",
       "      <td>Tuesday</td>\n",
       "    </tr>\n",
       "    <tr>\n",
       "      <th>2014-09-27 21:46:00</th>\n",
       "      <td>40.7146</td>\n",
       "      <td>-73.9504</td>\n",
       "      <td>B02682</td>\n",
       "      <td>1</td>\n",
       "      <td>2014</td>\n",
       "      <td>9</td>\n",
       "      <td>Saturday</td>\n",
       "    </tr>\n",
       "  </tbody>\n",
       "</table>\n",
       "</div>"
      ],
      "text/plain": [
       "                         Lat      Lon    Base  n  Year  Month WeekdayName\n",
       "DateTime                                                                 \n",
       "2014-08-26 19:49:00  40.7270 -73.9767  B02682  1  2014      8     Tuesday\n",
       "2014-08-31 14:40:00  40.7482 -73.9927  B02617  1  2014      8      Sunday\n",
       "2014-09-10 15:48:00  40.7557 -73.9895  B02764  1  2014      9   Wednesday\n",
       "2014-08-15 20:47:00  40.7081 -74.0116  B02617  1  2014      8      Friday\n",
       "2014-09-17 15:10:00  40.7417 -73.9894  B02598  1  2014      9   Wednesday\n",
       "2014-07-02 05:49:00  40.7675 -73.8666  B02682  1  2014      7   Wednesday\n",
       "2014-08-22 16:31:00  40.7596 -73.9738  B02598  1  2014      8      Friday\n",
       "2014-09-16 16:25:00  40.6466 -73.7894  B02598  1  2014      9     Tuesday\n",
       "2014-07-22 16:50:00  40.7642 -73.9818  B02617  1  2014      7     Tuesday\n",
       "2014-09-27 21:46:00  40.7146 -73.9504  B02682  1  2014      9    Saturday"
      ]
     },
     "execution_count": 65,
     "metadata": {},
     "output_type": "execute_result"
    }
   ],
   "source": [
    "data_2014.head(10)"
   ]
  },
  {
   "cell_type": "code",
   "execution_count": 66,
   "metadata": {},
   "outputs": [
    {
     "data": {
      "text/html": [
       "<div>\n",
       "<style scoped>\n",
       "    .dataframe tbody tr th:only-of-type {\n",
       "        vertical-align: middle;\n",
       "    }\n",
       "\n",
       "    .dataframe tbody tr th {\n",
       "        vertical-align: top;\n",
       "    }\n",
       "\n",
       "    .dataframe thead th {\n",
       "        text-align: right;\n",
       "    }\n",
       "</style>\n",
       "<table border=\"1\" class=\"dataframe\">\n",
       "  <thead>\n",
       "    <tr style=\"text-align: right;\">\n",
       "      <th></th>\n",
       "      <th>Lat</th>\n",
       "      <th>Lon</th>\n",
       "      <th>Base</th>\n",
       "      <th>n</th>\n",
       "      <th>Year</th>\n",
       "      <th>WeekdayName</th>\n",
       "    </tr>\n",
       "    <tr>\n",
       "      <th>Month</th>\n",
       "      <th></th>\n",
       "      <th></th>\n",
       "      <th></th>\n",
       "      <th></th>\n",
       "      <th></th>\n",
       "      <th></th>\n",
       "    </tr>\n",
       "  </thead>\n",
       "  <tbody>\n",
       "    <tr>\n",
       "      <th>4</th>\n",
       "      <td>5712</td>\n",
       "      <td>5712</td>\n",
       "      <td>5712</td>\n",
       "      <td>5712</td>\n",
       "      <td>5712</td>\n",
       "      <td>5712</td>\n",
       "    </tr>\n",
       "    <tr>\n",
       "      <th>5</th>\n",
       "      <td>6455</td>\n",
       "      <td>6455</td>\n",
       "      <td>6455</td>\n",
       "      <td>6455</td>\n",
       "      <td>6455</td>\n",
       "      <td>6455</td>\n",
       "    </tr>\n",
       "    <tr>\n",
       "      <th>6</th>\n",
       "      <td>6689</td>\n",
       "      <td>6689</td>\n",
       "      <td>6689</td>\n",
       "      <td>6689</td>\n",
       "      <td>6689</td>\n",
       "      <td>6689</td>\n",
       "    </tr>\n",
       "    <tr>\n",
       "      <th>7</th>\n",
       "      <td>7818</td>\n",
       "      <td>7818</td>\n",
       "      <td>7818</td>\n",
       "      <td>7818</td>\n",
       "      <td>7818</td>\n",
       "      <td>7818</td>\n",
       "    </tr>\n",
       "    <tr>\n",
       "      <th>8</th>\n",
       "      <td>8364</td>\n",
       "      <td>8364</td>\n",
       "      <td>8364</td>\n",
       "      <td>8364</td>\n",
       "      <td>8364</td>\n",
       "      <td>8364</td>\n",
       "    </tr>\n",
       "    <tr>\n",
       "      <th>9</th>\n",
       "      <td>10305</td>\n",
       "      <td>10305</td>\n",
       "      <td>10305</td>\n",
       "      <td>10305</td>\n",
       "      <td>10305</td>\n",
       "      <td>10305</td>\n",
       "    </tr>\n",
       "  </tbody>\n",
       "</table>\n",
       "</div>"
      ],
      "text/plain": [
       "         Lat    Lon   Base      n   Year  WeekdayName\n",
       "Month                                                \n",
       "4       5712   5712   5712   5712   5712         5712\n",
       "5       6455   6455   6455   6455   6455         6455\n",
       "6       6689   6689   6689   6689   6689         6689\n",
       "7       7818   7818   7818   7818   7818         7818\n",
       "8       8364   8364   8364   8364   8364         8364\n",
       "9      10305  10305  10305  10305  10305        10305"
      ]
     },
     "execution_count": 66,
     "metadata": {},
     "output_type": "execute_result"
    }
   ],
   "source": [
    "data_2014.groupby('Month').count()"
   ]
  },
  {
   "cell_type": "code",
   "execution_count": 85,
   "metadata": {},
   "outputs": [
    {
     "data": {
      "text/plain": [
       "<matplotlib.axes._subplots.AxesSubplot at 0xa2051d6a90>"
      ]
     },
     "execution_count": 85,
     "metadata": {},
     "output_type": "execute_result"
    },
    {
     "data": {
      "image/png": "[encoded data removed]",
      "text/plain": [
       "<Figure size 432x288 with 1 Axes>"
      ]
     },
     "metadata": {
      "needs_background": "light"
     },
     "output_type": "display_data"
    }
   ],
   "source": [
    "data_2014.groupby('Month').n.count().plot(kind='bar')"
   ]
  },
  {
   "cell_type": "code",
   "execution_count": 87,
   "metadata": {},
   "outputs": [
    {
     "data": {
      "text/plain": [
       "<matplotlib.axes._subplots.AxesSubplot at 0xa2052187b8>"
      ]
     },
     "execution_count": 87,
     "metadata": {},
     "output_type": "execute_result"
    },
    {
     "data": {
      "image/png": "[encoded data removed]",
      "text/plain": [
       "<Figure size 432x288 with 1 Axes>"
      ]
     },
     "metadata": {
      "needs_background": "light"
     },
     "output_type": "display_data"
    }
   ],
   "source": [
    "data_2014.groupby('WeekdayName').n.count().plot(kind='bar')"
   ]
  },
  {
   "cell_type": "code",
   "execution_count": 91,
   "metadata": {},
   "outputs": [
    {
     "data": {
      "text/plain": [
       "<matplotlib.axes._subplots.AxesSubplot at 0xa20662c588>"
      ]
     },
     "execution_count": 91,
     "metadata": {},
     "output_type": "execute_result"
    },
    {
     "data": {
      "image/png": "[encoded data removed]",
      "text/plain": [
       "<Figure size 1080x504 with 1 Axes>"
      ]
     },
     "metadata": {
      "needs_background": "light"
     },
     "output_type": "display_data"
    }
   ],
   "source": [
    "fig, ax = plt.subplots(figsize=(15,7))\n",
    "data_2014.groupby(['Month','WeekdayName']).n.count().plot(kind='bar')"
   ]
  },
  {
   "cell_type": "code",
   "execution_count": 83,
   "metadata": {},
   "outputs": [
    {
     "data": {
      "text/plain": [
       "<matplotlib.axes._subplots.AxesSubplot at 0xa204fdc0b8>"
      ]
     },
     "execution_count": 83,
     "metadata": {},
     "output_type": "execute_result"
    },
    {
     "data": {
      "image/png": "[encoded data removed]",
      "text/plain": [
       "<Figure size 432x288 with 1 Axes>"
      ]
     },
     "metadata": {
      "needs_background": "light"
     },
     "output_type": "display_data"
    }
   ],
   "source": [
    "data_2014.groupby('Hour').n.count().plot(kind='bar')"
   ]
  },
  {
   "cell_type": "markdown",
   "metadata": {},
   "source": [
    "Pickups seem more numerous during the day with a peack at the end of the day and a smaller one at the beginnin of the day."
   ]
  },
  {
   "cell_type": "code",
   "execution_count": null,
   "metadata": {},
   "outputs": [],
   "source": [
    "data_2014.n.resample('D').sum().plot()"
   ]
  },
  {
   "cell_type": "code",
   "execution_count": null,
   "metadata": {},
   "outputs": [],
   "source": [
    "data_2014.n.resample('W').sum().plot(kind='bar')"
   ]
  },
  {
   "cell_type": "code",
   "execution_count": null,
   "metadata": {},
   "outputs": [],
   "source": [
    "data_2014.n.resample('m').sum().plot(kind='bar')"
   ]
  },
  {
   "cell_type": "markdown",
   "metadata": {},
   "source": [
    "Data source:\n",
    "- https://www.kaggle.com/fivethirtyeight/uber-pickups-in-new-york-city/data\n",
    "\n",
    "Other ressources:\n",
    "- https://data-flair.training/blogs/r-data-science-project-uber-data-analysis/\n"
   ]
  }
 ],
 "metadata": {
  "kernelspec": {
   "display_name": "Python 3",
   "language": "python",
   "name": "python3"
  },
  "language_info": {
   "codemirror_mode": {
    "name": "ipython",
    "version": 3
   },
   "file_extension": ".py",
   "mimetype": "text/x-python",
   "name": "python",
   "nbconvert_exporter": "python",
   "pygments_lexer": "ipython3",
   "version": "3.7.3"
  }
 },
 "nbformat": 4,
 "nbformat_minor": 2
}
