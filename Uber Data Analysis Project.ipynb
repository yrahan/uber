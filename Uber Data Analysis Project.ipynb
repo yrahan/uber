{
 "cells": [
  {
   "cell_type": "markdown",
   "metadata": {},
   "source": [
    "We will analyze the Uber Pickups in New York City dataset. This is more of a data visualization project"
   ]
  },
  {
   "cell_type": "markdown",
   "metadata": {},
   "source": [
    "https://data-flair.training/blogs/r-data-science-project-uber-data-analysis/"
   ]
  },
  {
   "cell_type": "markdown",
   "metadata": {},
   "source": [
    "Data source:\n",
    "\n",
    "https://www.kaggle.com/fivethirtyeight/uber-pickups-in-new-york-city/data    "
   ]
  },
  {
   "cell_type": "code",
   "execution_count": 1,
   "metadata": {},
   "outputs": [],
   "source": [
    "%matplotlib inline\n",
    "\n",
    "# pretty display of variables\n",
    "from IPython.core.interactiveshell import InteractiveShell\n",
    "InteractiveShell.ast_node_interactivity = \"all\""
   ]
  },
  {
   "cell_type": "code",
   "execution_count": 2,
   "metadata": {},
   "outputs": [],
   "source": [
    "#!dir \"./data/uber-pickups-in-new-york-city\""
   ]
  },
  {
   "cell_type": "code",
   "execution_count": 3,
   "metadata": {},
   "outputs": [],
   "source": [
    "import pandas as pd"
   ]
  },
  {
   "cell_type": "code",
   "execution_count": 4,
   "metadata": {},
   "outputs": [],
   "source": [
    "apr_data = pd.read_csv(\"./data/uber-pickups-in-new-york-city/uber-raw-data-apr14.csv\")\n",
    "may_data = pd.read_csv(\"./data/uber-pickups-in-new-york-city/uber-raw-data-may14.csv\")\n",
    "jun_data = pd.read_csv(\"./data/uber-pickups-in-new-york-city/uber-raw-data-jun14.csv\")\n",
    "jul_data = pd.read_csv(\"./data/uber-pickups-in-new-york-city/uber-raw-data-jul14.csv\")\n",
    "aug_data = pd.read_csv(\"./data/uber-pickups-in-new-york-city/uber-raw-data-aug14.csv\")\n",
    "sep_data = pd.read_csv(\"./data/uber-pickups-in-new-york-city/uber-raw-data-sep14.csv\")\n"
   ]
  },
  {
   "cell_type": "code",
   "execution_count": 5,
   "metadata": {},
   "outputs": [],
   "source": [
    "frames = [apr_data, may_data, jun_data, jul_data, aug_data, sep_data]\n",
    "uber_2014  = pd.concat(frames)"
   ]
  },
  {
   "cell_type": "code",
   "execution_count": 6,
   "metadata": {},
   "outputs": [
    {
     "data": {
      "text/plain": [
       "(4534327, 4)"
      ]
     },
     "execution_count": 6,
     "metadata": {},
     "output_type": "execute_result"
    }
   ],
   "source": [
    "uber_2014.shape"
   ]
  },
  {
   "cell_type": "code",
   "execution_count": 7,
   "metadata": {},
   "outputs": [
    {
     "data": {
      "text/html": [
       "<div>\n",
       "<style scoped>\n",
       "    .dataframe tbody tr th:only-of-type {\n",
       "        vertical-align: middle;\n",
       "    }\n",
       "\n",
       "    .dataframe tbody tr th {\n",
       "        vertical-align: top;\n",
       "    }\n",
       "\n",
       "    .dataframe thead th {\n",
       "        text-align: right;\n",
       "    }\n",
       "</style>\n",
       "<table border=\"1\" class=\"dataframe\">\n",
       "  <thead>\n",
       "    <tr style=\"text-align: right;\">\n",
       "      <th></th>\n",
       "      <th>Date/Time</th>\n",
       "      <th>Lat</th>\n",
       "      <th>Lon</th>\n",
       "      <th>Base</th>\n",
       "    </tr>\n",
       "  </thead>\n",
       "  <tbody>\n",
       "    <tr>\n",
       "      <th>0</th>\n",
       "      <td>4/1/2014 0:11:00</td>\n",
       "      <td>40.7690</td>\n",
       "      <td>-73.9549</td>\n",
       "      <td>B02512</td>\n",
       "    </tr>\n",
       "    <tr>\n",
       "      <th>1</th>\n",
       "      <td>4/1/2014 0:17:00</td>\n",
       "      <td>40.7267</td>\n",
       "      <td>-74.0345</td>\n",
       "      <td>B02512</td>\n",
       "    </tr>\n",
       "    <tr>\n",
       "      <th>2</th>\n",
       "      <td>4/1/2014 0:21:00</td>\n",
       "      <td>40.7316</td>\n",
       "      <td>-73.9873</td>\n",
       "      <td>B02512</td>\n",
       "    </tr>\n",
       "    <tr>\n",
       "      <th>3</th>\n",
       "      <td>4/1/2014 0:28:00</td>\n",
       "      <td>40.7588</td>\n",
       "      <td>-73.9776</td>\n",
       "      <td>B02512</td>\n",
       "    </tr>\n",
       "    <tr>\n",
       "      <th>4</th>\n",
       "      <td>4/1/2014 0:33:00</td>\n",
       "      <td>40.7594</td>\n",
       "      <td>-73.9722</td>\n",
       "      <td>B02512</td>\n",
       "    </tr>\n",
       "    <tr>\n",
       "      <th>5</th>\n",
       "      <td>4/1/2014 0:33:00</td>\n",
       "      <td>40.7383</td>\n",
       "      <td>-74.0403</td>\n",
       "      <td>B02512</td>\n",
       "    </tr>\n",
       "    <tr>\n",
       "      <th>6</th>\n",
       "      <td>4/1/2014 0:39:00</td>\n",
       "      <td>40.7223</td>\n",
       "      <td>-73.9887</td>\n",
       "      <td>B02512</td>\n",
       "    </tr>\n",
       "    <tr>\n",
       "      <th>7</th>\n",
       "      <td>4/1/2014 0:45:00</td>\n",
       "      <td>40.7620</td>\n",
       "      <td>-73.9790</td>\n",
       "      <td>B02512</td>\n",
       "    </tr>\n",
       "    <tr>\n",
       "      <th>8</th>\n",
       "      <td>4/1/2014 0:55:00</td>\n",
       "      <td>40.7524</td>\n",
       "      <td>-73.9960</td>\n",
       "      <td>B02512</td>\n",
       "    </tr>\n",
       "    <tr>\n",
       "      <th>9</th>\n",
       "      <td>4/1/2014 1:01:00</td>\n",
       "      <td>40.7575</td>\n",
       "      <td>-73.9846</td>\n",
       "      <td>B02512</td>\n",
       "    </tr>\n",
       "  </tbody>\n",
       "</table>\n",
       "</div>"
      ],
      "text/plain": [
       "          Date/Time      Lat      Lon    Base\n",
       "0  4/1/2014 0:11:00  40.7690 -73.9549  B02512\n",
       "1  4/1/2014 0:17:00  40.7267 -74.0345  B02512\n",
       "2  4/1/2014 0:21:00  40.7316 -73.9873  B02512\n",
       "3  4/1/2014 0:28:00  40.7588 -73.9776  B02512\n",
       "4  4/1/2014 0:33:00  40.7594 -73.9722  B02512\n",
       "5  4/1/2014 0:33:00  40.7383 -74.0403  B02512\n",
       "6  4/1/2014 0:39:00  40.7223 -73.9887  B02512\n",
       "7  4/1/2014 0:45:00  40.7620 -73.9790  B02512\n",
       "8  4/1/2014 0:55:00  40.7524 -73.9960  B02512\n",
       "9  4/1/2014 1:01:00  40.7575 -73.9846  B02512"
      ]
     },
     "execution_count": 7,
     "metadata": {},
     "output_type": "execute_result"
    }
   ],
   "source": [
    "uber_2014.head(10)"
   ]
  },
  {
   "cell_type": "code",
   "execution_count": 8,
   "metadata": {},
   "outputs": [],
   "source": [
    " data_2014 = uber_2014.sample(frac=0.01, replace=False, random_state=1);"
   ]
  },
  {
   "cell_type": "markdown",
   "metadata": {},
   "source": [
    "Let's work and prototype on as maller simple, for themoment."
   ]
  },
  {
   "cell_type": "code",
   "execution_count": 9,
   "metadata": {},
   "outputs": [
    {
     "data": {
      "text/plain": [
       "(45343, 4)"
      ]
     },
     "execution_count": 9,
     "metadata": {},
     "output_type": "execute_result"
    }
   ],
   "source": [
    "data_2014.shape"
   ]
  },
  {
   "cell_type": "code",
   "execution_count": 10,
   "metadata": {},
   "outputs": [
    {
     "data": {
      "text/plain": [
       "Index(['Date/Time', 'Lat', 'Lon', 'Base'], dtype='object')"
      ]
     },
     "execution_count": 10,
     "metadata": {},
     "output_type": "execute_result"
    }
   ],
   "source": [
    "data_2014.columns"
   ]
  },
  {
   "cell_type": "code",
   "execution_count": 11,
   "metadata": {},
   "outputs": [],
   "source": [
    "# lets rename our Date/Time column for an easier handeling."
   ]
  },
  {
   "cell_type": "code",
   "execution_count": 12,
   "metadata": {},
   "outputs": [],
   "source": [
    "data_2014.rename(columns={'Date/Time':'DateTime'}, inplace=True)"
   ]
  },
  {
   "cell_type": "code",
   "execution_count": 13,
   "metadata": {},
   "outputs": [
    {
     "data": {
      "text/plain": [
       "Index(['DateTime', 'Lat', 'Lon', 'Base'], dtype='object')"
      ]
     },
     "execution_count": 13,
     "metadata": {},
     "output_type": "execute_result"
    }
   ],
   "source": [
    "data_2014.columns"
   ]
  },
  {
   "cell_type": "code",
   "execution_count": 14,
   "metadata": {},
   "outputs": [
    {
     "data": {
      "text/html": [
       "<div>\n",
       "<style scoped>\n",
       "    .dataframe tbody tr th:only-of-type {\n",
       "        vertical-align: middle;\n",
       "    }\n",
       "\n",
       "    .dataframe tbody tr th {\n",
       "        vertical-align: top;\n",
       "    }\n",
       "\n",
       "    .dataframe thead th {\n",
       "        text-align: right;\n",
       "    }\n",
       "</style>\n",
       "<table border=\"1\" class=\"dataframe\">\n",
       "  <thead>\n",
       "    <tr style=\"text-align: right;\">\n",
       "      <th></th>\n",
       "      <th>DateTime</th>\n",
       "      <th>Lat</th>\n",
       "      <th>Lon</th>\n",
       "      <th>Base</th>\n",
       "    </tr>\n",
       "  </thead>\n",
       "  <tbody>\n",
       "    <tr>\n",
       "      <th>753909</th>\n",
       "      <td>8/26/2014 19:49:00</td>\n",
       "      <td>40.7270</td>\n",
       "      <td>-73.9767</td>\n",
       "      <td>B02682</td>\n",
       "    </tr>\n",
       "    <tr>\n",
       "      <th>601873</th>\n",
       "      <td>8/31/2014 14:40:00</td>\n",
       "      <td>40.7482</td>\n",
       "      <td>-73.9927</td>\n",
       "      <td>B02617</td>\n",
       "    </tr>\n",
       "    <tr>\n",
       "      <th>890927</th>\n",
       "      <td>9/10/2014 15:48:00</td>\n",
       "      <td>40.7557</td>\n",
       "      <td>-73.9895</td>\n",
       "      <td>B02764</td>\n",
       "    </tr>\n",
       "    <tr>\n",
       "      <th>433155</th>\n",
       "      <td>8/15/2014 20:47:00</td>\n",
       "      <td>40.7081</td>\n",
       "      <td>-74.0116</td>\n",
       "      <td>B02617</td>\n",
       "    </tr>\n",
       "    <tr>\n",
       "      <th>169714</th>\n",
       "      <td>9/17/2014 15:10:00</td>\n",
       "      <td>40.7417</td>\n",
       "      <td>-73.9894</td>\n",
       "      <td>B02598</td>\n",
       "    </tr>\n",
       "  </tbody>\n",
       "</table>\n",
       "</div>"
      ],
      "text/plain": [
       "                  DateTime      Lat      Lon    Base\n",
       "753909  8/26/2014 19:49:00  40.7270 -73.9767  B02682\n",
       "601873  8/31/2014 14:40:00  40.7482 -73.9927  B02617\n",
       "890927  9/10/2014 15:48:00  40.7557 -73.9895  B02764\n",
       "433155  8/15/2014 20:47:00  40.7081 -74.0116  B02617\n",
       "169714  9/17/2014 15:10:00  40.7417 -73.9894  B02598"
      ]
     },
     "execution_count": 14,
     "metadata": {},
     "output_type": "execute_result"
    }
   ],
   "source": [
    "data_2014.head()"
   ]
  },
  {
   "cell_type": "code",
   "execution_count": 15,
   "metadata": {},
   "outputs": [
    {
     "data": {
      "text/plain": [
       "(45343, 4)"
      ]
     },
     "execution_count": 15,
     "metadata": {},
     "output_type": "execute_result"
    }
   ],
   "source": [
    "data_2014.shape"
   ]
  },
  {
   "cell_type": "code",
   "execution_count": 16,
   "metadata": {},
   "outputs": [
    {
     "data": {
      "text/plain": [
       "B02617    14574\n",
       "B02598    14055\n",
       "B02682    12066\n",
       "B02764     2641\n",
       "B02512     2007\n",
       "Name: Base, dtype: int64"
      ]
     },
     "execution_count": 16,
     "metadata": {},
     "output_type": "execute_result"
    }
   ],
   "source": [
    "data_2014.Base.value_counts()"
   ]
  },
  {
   "cell_type": "code",
   "execution_count": 17,
   "metadata": {},
   "outputs": [
    {
     "data": {
      "text/plain": [
       "DateTime    0\n",
       "Lat         0\n",
       "Lon         0\n",
       "Base        0\n",
       "dtype: int64"
      ]
     },
     "execution_count": 17,
     "metadata": {},
     "output_type": "execute_result"
    }
   ],
   "source": [
    "data_2014.isna().sum()"
   ]
  },
  {
   "cell_type": "code",
   "execution_count": 18,
   "metadata": {},
   "outputs": [],
   "source": [
    "# no NAs to deal with."
   ]
  },
  {
   "cell_type": "code",
   "execution_count": 19,
   "metadata": {},
   "outputs": [
    {
     "data": {
      "text/plain": [
       "DateTime     object\n",
       "Lat         float64\n",
       "Lon         float64\n",
       "Base         object\n",
       "dtype: object"
      ]
     },
     "execution_count": 19,
     "metadata": {},
     "output_type": "execute_result"
    }
   ],
   "source": [
    "data_2014.dtypes"
   ]
  },
  {
   "cell_type": "code",
   "execution_count": 20,
   "metadata": {},
   "outputs": [
    {
     "data": {
      "text/plain": [
       "753909    8/26/2014 19:49:00\n",
       "601873    8/31/2014 14:40:00\n",
       "890927    9/10/2014 15:48:00\n",
       "433155    8/15/2014 20:47:00\n",
       "169714    9/17/2014 15:10:00\n",
       "596910      7/2/2014 5:49:00\n",
       "192011    8/22/2014 16:31:00\n",
       "162364    9/16/2014 16:25:00\n",
       "475752    7/22/2014 16:50:00\n",
       "832047    9/27/2014 21:46:00\n",
       "Name: DateTime, dtype: object"
      ]
     },
     "execution_count": 20,
     "metadata": {},
     "output_type": "execute_result"
    }
   ],
   "source": [
    "data_2014.DateTime.head(10)"
   ]
  },
  {
   "cell_type": "code",
   "execution_count": 21,
   "metadata": {},
   "outputs": [],
   "source": [
    "data_2014.DateTime = pd.to_datetime(data_2014.DateTime)\n"
   ]
  },
  {
   "cell_type": "code",
   "execution_count": 22,
   "metadata": {},
   "outputs": [
    {
     "data": {
      "text/html": [
       "<div>\n",
       "<style scoped>\n",
       "    .dataframe tbody tr th:only-of-type {\n",
       "        vertical-align: middle;\n",
       "    }\n",
       "\n",
       "    .dataframe tbody tr th {\n",
       "        vertical-align: top;\n",
       "    }\n",
       "\n",
       "    .dataframe thead th {\n",
       "        text-align: right;\n",
       "    }\n",
       "</style>\n",
       "<table border=\"1\" class=\"dataframe\">\n",
       "  <thead>\n",
       "    <tr style=\"text-align: right;\">\n",
       "      <th></th>\n",
       "      <th>DateTime</th>\n",
       "      <th>Lat</th>\n",
       "      <th>Lon</th>\n",
       "      <th>Base</th>\n",
       "    </tr>\n",
       "  </thead>\n",
       "  <tbody>\n",
       "    <tr>\n",
       "      <th>753909</th>\n",
       "      <td>2014-08-26 19:49:00</td>\n",
       "      <td>40.7270</td>\n",
       "      <td>-73.9767</td>\n",
       "      <td>B02682</td>\n",
       "    </tr>\n",
       "    <tr>\n",
       "      <th>601873</th>\n",
       "      <td>2014-08-31 14:40:00</td>\n",
       "      <td>40.7482</td>\n",
       "      <td>-73.9927</td>\n",
       "      <td>B02617</td>\n",
       "    </tr>\n",
       "    <tr>\n",
       "      <th>890927</th>\n",
       "      <td>2014-09-10 15:48:00</td>\n",
       "      <td>40.7557</td>\n",
       "      <td>-73.9895</td>\n",
       "      <td>B02764</td>\n",
       "    </tr>\n",
       "    <tr>\n",
       "      <th>433155</th>\n",
       "      <td>2014-08-15 20:47:00</td>\n",
       "      <td>40.7081</td>\n",
       "      <td>-74.0116</td>\n",
       "      <td>B02617</td>\n",
       "    </tr>\n",
       "    <tr>\n",
       "      <th>169714</th>\n",
       "      <td>2014-09-17 15:10:00</td>\n",
       "      <td>40.7417</td>\n",
       "      <td>-73.9894</td>\n",
       "      <td>B02598</td>\n",
       "    </tr>\n",
       "    <tr>\n",
       "      <th>596910</th>\n",
       "      <td>2014-07-02 05:49:00</td>\n",
       "      <td>40.7675</td>\n",
       "      <td>-73.8666</td>\n",
       "      <td>B02682</td>\n",
       "    </tr>\n",
       "    <tr>\n",
       "      <th>192011</th>\n",
       "      <td>2014-08-22 16:31:00</td>\n",
       "      <td>40.7596</td>\n",
       "      <td>-73.9738</td>\n",
       "      <td>B02598</td>\n",
       "    </tr>\n",
       "    <tr>\n",
       "      <th>162364</th>\n",
       "      <td>2014-09-16 16:25:00</td>\n",
       "      <td>40.6466</td>\n",
       "      <td>-73.7894</td>\n",
       "      <td>B02598</td>\n",
       "    </tr>\n",
       "    <tr>\n",
       "      <th>475752</th>\n",
       "      <td>2014-07-22 16:50:00</td>\n",
       "      <td>40.7642</td>\n",
       "      <td>-73.9818</td>\n",
       "      <td>B02617</td>\n",
       "    </tr>\n",
       "    <tr>\n",
       "      <th>832047</th>\n",
       "      <td>2014-09-27 21:46:00</td>\n",
       "      <td>40.7146</td>\n",
       "      <td>-73.9504</td>\n",
       "      <td>B02682</td>\n",
       "    </tr>\n",
       "  </tbody>\n",
       "</table>\n",
       "</div>"
      ],
      "text/plain": [
       "                  DateTime      Lat      Lon    Base\n",
       "753909 2014-08-26 19:49:00  40.7270 -73.9767  B02682\n",
       "601873 2014-08-31 14:40:00  40.7482 -73.9927  B02617\n",
       "890927 2014-09-10 15:48:00  40.7557 -73.9895  B02764\n",
       "433155 2014-08-15 20:47:00  40.7081 -74.0116  B02617\n",
       "169714 2014-09-17 15:10:00  40.7417 -73.9894  B02598\n",
       "596910 2014-07-02 05:49:00  40.7675 -73.8666  B02682\n",
       "192011 2014-08-22 16:31:00  40.7596 -73.9738  B02598\n",
       "162364 2014-09-16 16:25:00  40.6466 -73.7894  B02598\n",
       "475752 2014-07-22 16:50:00  40.7642 -73.9818  B02617\n",
       "832047 2014-09-27 21:46:00  40.7146 -73.9504  B02682"
      ]
     },
     "execution_count": 22,
     "metadata": {},
     "output_type": "execute_result"
    }
   ],
   "source": [
    "data_2014.head(10)"
   ]
  },
  {
   "cell_type": "code",
   "execution_count": 23,
   "metadata": {},
   "outputs": [
    {
     "data": {
      "text/plain": [
       "DateTime    datetime64[ns]\n",
       "Lat                float64\n",
       "Lon                float64\n",
       "Base                object\n",
       "dtype: object"
      ]
     },
     "execution_count": 23,
     "metadata": {},
     "output_type": "execute_result"
    }
   ],
   "source": [
    "data_2014.dtypes"
   ]
  },
  {
   "cell_type": "markdown",
   "metadata": {},
   "source": [
    "### Plotting the trips by the hours in a day"
   ]
  },
  {
   "cell_type": "code",
   "execution_count": 24,
   "metadata": {},
   "outputs": [],
   "source": [
    "%matplotlib inline\n",
    "import seaborn as sns; sns.set()"
   ]
  },
  {
   "cell_type": "code",
   "execution_count": 25,
   "metadata": {},
   "outputs": [
    {
     "data": {
      "text/plain": [
       "753909   2014-08-26 19:49:00\n",
       "601873   2014-08-31 14:40:00\n",
       "890927   2014-09-10 15:48:00\n",
       "433155   2014-08-15 20:47:00\n",
       "169714   2014-09-17 15:10:00\n",
       "596910   2014-07-02 05:49:00\n",
       "192011   2014-08-22 16:31:00\n",
       "162364   2014-09-16 16:25:00\n",
       "475752   2014-07-22 16:50:00\n",
       "832047   2014-09-27 21:46:00\n",
       "Name: DateTime, dtype: datetime64[ns]"
      ]
     },
     "execution_count": 25,
     "metadata": {},
     "output_type": "execute_result"
    }
   ],
   "source": [
    "data_2014.DateTime.head(10)"
   ]
  },
  {
   "cell_type": "code",
   "execution_count": 31,
   "metadata": {},
   "outputs": [
    {
     "data": {
      "text/html": [
       "<div>\n",
       "<style scoped>\n",
       "    .dataframe tbody tr th:only-of-type {\n",
       "        vertical-align: middle;\n",
       "    }\n",
       "\n",
       "    .dataframe tbody tr th {\n",
       "        vertical-align: top;\n",
       "    }\n",
       "\n",
       "    .dataframe thead th {\n",
       "        text-align: right;\n",
       "    }\n",
       "</style>\n",
       "<table border=\"1\" class=\"dataframe\">\n",
       "  <thead>\n",
       "    <tr style=\"text-align: right;\">\n",
       "      <th></th>\n",
       "      <th>Lat</th>\n",
       "      <th>Lon</th>\n",
       "      <th>Base</th>\n",
       "    </tr>\n",
       "    <tr>\n",
       "      <th>DateTime</th>\n",
       "      <th></th>\n",
       "      <th></th>\n",
       "      <th></th>\n",
       "    </tr>\n",
       "  </thead>\n",
       "  <tbody>\n",
       "    <tr>\n",
       "      <th>2014-08-26 19:49:00</th>\n",
       "      <td>40.7270</td>\n",
       "      <td>-73.9767</td>\n",
       "      <td>B02682</td>\n",
       "    </tr>\n",
       "    <tr>\n",
       "      <th>2014-08-31 14:40:00</th>\n",
       "      <td>40.7482</td>\n",
       "      <td>-73.9927</td>\n",
       "      <td>B02617</td>\n",
       "    </tr>\n",
       "    <tr>\n",
       "      <th>2014-09-10 15:48:00</th>\n",
       "      <td>40.7557</td>\n",
       "      <td>-73.9895</td>\n",
       "      <td>B02764</td>\n",
       "    </tr>\n",
       "    <tr>\n",
       "      <th>2014-08-15 20:47:00</th>\n",
       "      <td>40.7081</td>\n",
       "      <td>-74.0116</td>\n",
       "      <td>B02617</td>\n",
       "    </tr>\n",
       "    <tr>\n",
       "      <th>2014-09-17 15:10:00</th>\n",
       "      <td>40.7417</td>\n",
       "      <td>-73.9894</td>\n",
       "      <td>B02598</td>\n",
       "    </tr>\n",
       "    <tr>\n",
       "      <th>2014-07-02 05:49:00</th>\n",
       "      <td>40.7675</td>\n",
       "      <td>-73.8666</td>\n",
       "      <td>B02682</td>\n",
       "    </tr>\n",
       "    <tr>\n",
       "      <th>2014-08-22 16:31:00</th>\n",
       "      <td>40.7596</td>\n",
       "      <td>-73.9738</td>\n",
       "      <td>B02598</td>\n",
       "    </tr>\n",
       "    <tr>\n",
       "      <th>2014-09-16 16:25:00</th>\n",
       "      <td>40.6466</td>\n",
       "      <td>-73.7894</td>\n",
       "      <td>B02598</td>\n",
       "    </tr>\n",
       "    <tr>\n",
       "      <th>2014-07-22 16:50:00</th>\n",
       "      <td>40.7642</td>\n",
       "      <td>-73.9818</td>\n",
       "      <td>B02617</td>\n",
       "    </tr>\n",
       "    <tr>\n",
       "      <th>2014-09-27 21:46:00</th>\n",
       "      <td>40.7146</td>\n",
       "      <td>-73.9504</td>\n",
       "      <td>B02682</td>\n",
       "    </tr>\n",
       "  </tbody>\n",
       "</table>\n",
       "</div>"
      ],
      "text/plain": [
       "                         Lat      Lon    Base\n",
       "DateTime                                     \n",
       "2014-08-26 19:49:00  40.7270 -73.9767  B02682\n",
       "2014-08-31 14:40:00  40.7482 -73.9927  B02617\n",
       "2014-09-10 15:48:00  40.7557 -73.9895  B02764\n",
       "2014-08-15 20:47:00  40.7081 -74.0116  B02617\n",
       "2014-09-17 15:10:00  40.7417 -73.9894  B02598\n",
       "2014-07-02 05:49:00  40.7675 -73.8666  B02682\n",
       "2014-08-22 16:31:00  40.7596 -73.9738  B02598\n",
       "2014-09-16 16:25:00  40.6466 -73.7894  B02598\n",
       "2014-07-22 16:50:00  40.7642 -73.9818  B02617\n",
       "2014-09-27 21:46:00  40.7146 -73.9504  B02682"
      ]
     },
     "execution_count": 31,
     "metadata": {},
     "output_type": "execute_result"
    }
   ],
   "source": [
    "# set DateTime as index\n",
    "data_2014 = data_2014.set_index('DateTime')\n",
    "data_2014.head(10)"
   ]
  },
  {
   "cell_type": "code",
   "execution_count": 37,
   "metadata": {},
   "outputs": [
    {
     "data": {
      "text/plain": [
       "Index(['Lat', 'Lon', 'Base'], dtype='object')"
      ]
     },
     "execution_count": 37,
     "metadata": {},
     "output_type": "execute_result"
    }
   ],
   "source": [
    "data_2014.columns"
   ]
  },
  {
   "cell_type": "code",
   "execution_count": 40,
   "metadata": {},
   "outputs": [],
   "source": [
    "# https://www.dataquest.io/blog/tutorial-time-series-analysis-with-pandas/"
   ]
  }
 ],
 "metadata": {
  "kernelspec": {
   "display_name": "Python 3",
   "language": "python",
   "name": "python3"
  },
  "language_info": {
   "codemirror_mode": {
    "name": "ipython",
    "version": 3
   },
   "file_extension": ".py",
   "mimetype": "text/x-python",
   "name": "python",
   "nbconvert_exporter": "python",
   "pygments_lexer": "ipython3",
   "version": "3.7.3"
  }
 },
 "nbformat": 4,
 "nbformat_minor": 2
}
